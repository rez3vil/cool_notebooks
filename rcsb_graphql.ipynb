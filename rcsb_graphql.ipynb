{
 "cells": [
  {
   "cell_type": "code",
   "execution_count": null,
   "id": "39a634c4",
   "metadata": {},
   "outputs": [],
   "source": [
    "import requests\n",
    "from rdkit import Chem\n",
    "\n",
    "pdbid = '7RDX'\n",
    "ls_smi = []\n",
    "\n",
    "query = f'''{{\n",
    "  entry(entry_id: \"{pdbid}\") {{\n",
    "    nonpolymer_entities {{\n",
    "      nonpolymer_comp {{\n",
    "        rcsb_id\n",
    "        pdbx_chem_comp_descriptor {{\n",
    "          type\n",
    "          comp_id\n",
    "          program\n",
    "          descriptor\n",
    "        }}\n",
    "      }}\n",
    "    }}\n",
    "  }}\n",
    "}}'''\n",
    "url = \"https://data.rcsb.org/graphql\"\n",
    "r = requests.post(url, json={'query': query})\n",
    "for i in r.json()['data']['entry']['nonpolymer_entities']:\n",
    "    if i['nonpolymer_comp']['pdbx_chem_comp_descriptor'][0]['type'] == 'SMILES':\n",
    "        ls_smi.append(Chem.CanonSmiles(i['nonpolymer_comp']['pdbx_chem_comp_descriptor'][0]['descriptor']))"
   ]
  },
  {
   "cell_type": "code",
   "execution_count": 2,
   "id": "bbb10d4d",
   "metadata": {},
   "outputs": [
    {
     "name": "stdout",
     "output_type": "stream",
     "text": [
      "['[Zn+2]', '[Mg+2]', 'Nc1ncnc2c1ncn2C1OC(COP(=O)(O)OP(=O)(O)O)C(O)C1O', 'CC(CCC(=O)NCCC[N+](C)(C)CC(O)CS(=O)(=O)O)C1CCC2C3C(O)CC4CC(O)CCC4(C)C3CC(O)C12C', '[F][Al]([F])[F]']\n"
     ]
    }
   ],
   "source": [
    "print(ls_smi)"
   ]
  },
  {
   "cell_type": "code",
   "execution_count": null,
   "id": "f3891579",
   "metadata": {},
   "outputs": [],
   "source": []
  }
 ],
 "metadata": {
  "kernelspec": {
   "display_name": "myml",
   "language": "python",
   "name": "python3"
  },
  "language_info": {
   "codemirror_mode": {
    "name": "ipython",
    "version": 3
   },
   "file_extension": ".py",
   "mimetype": "text/x-python",
   "name": "python",
   "nbconvert_exporter": "python",
   "pygments_lexer": "ipython3",
   "version": "3.13.3"
  }
 },
 "nbformat": 4,
 "nbformat_minor": 5
}
